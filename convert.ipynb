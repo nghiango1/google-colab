{
  "cells": [
    {
      "cell_type": "code",
      "source": [
        "# Install necessary libraries\n",
        "!pip install -q torchaudio\n",
        "!pip install -q git+https://github.com/snakers4/silero-vad\n",
        "!pip install -q google-colab\n",
        "!pip install -q librosa soundfile pydub\n",
        "!pip install -q git+https://github.com/openai/whisper.git\n",
        "\n",
        "# To be decided\n",
        "!pip install -q googletrans==4.0.0-rc1\n",
        "!pip install -q gTTS"
      ],
      "metadata": {
        "colab": {
          "base_uri": "https://localhost:8080/"
        },
        "id": "1LOooPipkBd9",
        "outputId": "fc784b71-b01b-45e9-f84d-d6016f4f1756"
      },
      "execution_count": 2,
      "outputs": [
        {
          "output_type": "stream",
          "name": "stdout",
          "text": [
            "  Installing build dependencies ... \u001b[?25l\u001b[?25hdone\n",
            "  Getting requirements to build wheel ... \u001b[?25l\u001b[?25hdone\n",
            "  Preparing metadata (pyproject.toml) ... \u001b[?25l\u001b[?25hdone\n",
            "  Installing build dependencies ... \u001b[?25l\u001b[?25hdone\n",
            "  Getting requirements to build wheel ... \u001b[?25l\u001b[?25hdone\n",
            "  Preparing metadata (pyproject.toml) ... \u001b[?25l\u001b[?25hdone\n"
          ]
        }
      ]
    },
    {
      "cell_type": "code",
      "source": [
        "from google.colab import drive\n",
        "drive.mount('/content/drive')"
      ],
      "metadata": {
        "colab": {
          "base_uri": "https://localhost:8080/"
        },
        "id": "Na-4OGKijI-B",
        "outputId": "216f2fb3-8693-4902-ace9-7edbb3bbd455"
      },
      "execution_count": 3,
      "outputs": [
        {
          "output_type": "stream",
          "name": "stdout",
          "text": [
            "Drive already mounted at /content/drive; to attempt to forcibly remount, call drive.mount(\"/content/drive\", force_remount=True).\n"
          ]
        }
      ]
    },
    {
      "cell_type": "code",
      "source": [
        "from IPython.display import HTML\n",
        "from base64 import b64encode\n",
        "\n",
        "mp4 = open('/content/drive/MyDrive/video-converter/example-video.mp4','rb').read()\n",
        "data_url = \"data:video/mp4;base64,\" + b64encode(mp4).decode()\n",
        "HTML(\"\"\"\n",
        "<video width=400 controls>\n",
        "      <source src=\"%s\" type=\"video/mp4\">\n",
        "</video>\n",
        "\"\"\" % data_url)\n"
      ],
      "metadata": {
        "id": "Hmn1oZsrj7We"
      },
      "execution_count": null,
      "outputs": []
    },
    {
      "cell_type": "markdown",
      "source": [
        "# Generate my way to auto process the video"
      ],
      "metadata": {
        "id": "1D22ZZw_tyt6"
      }
    },
    {
      "cell_type": "code",
      "source": [
        "# Path to your video file\n",
        "mp4_path = '/content/drive/MyDrive/video-converter/example-video.mp4'\n",
        "\n",
        "# Extract audio using ffmpeg\n",
        "wav_path = 'audio.wav'  # Temporary WAV file for audio\n",
        "\n",
        "!rm -f \"{wav_path}\"\n",
        "!ffmpeg -i \"{mp4_path}\" -ab 160k -ac 2 -ar 44100 -vn \"{wav_path}\""
      ],
      "metadata": {
        "colab": {
          "base_uri": "https://localhost:8080/"
        },
        "id": "YcL24WsCtxUx",
        "outputId": "c4e608f6-6b0e-4f90-ffc1-16fe4a78b040"
      },
      "execution_count": 5,
      "outputs": [
        {
          "output_type": "stream",
          "name": "stdout",
          "text": [
            "ffmpeg version 4.4.2-0ubuntu0.22.04.1 Copyright (c) 2000-2021 the FFmpeg developers\n",
            "  built with gcc 11 (Ubuntu 11.2.0-19ubuntu1)\n",
            "  configuration: --prefix=/usr --extra-version=0ubuntu0.22.04.1 --toolchain=hardened --libdir=/usr/lib/x86_64-linux-gnu --incdir=/usr/include/x86_64-linux-gnu --arch=amd64 --enable-gpl --disable-stripping --enable-gnutls --enable-ladspa --enable-libaom --enable-libass --enable-libbluray --enable-libbs2b --enable-libcaca --enable-libcdio --enable-libcodec2 --enable-libdav1d --enable-libflite --enable-libfontconfig --enable-libfreetype --enable-libfribidi --enable-libgme --enable-libgsm --enable-libjack --enable-libmp3lame --enable-libmysofa --enable-libopenjpeg --enable-libopenmpt --enable-libopus --enable-libpulse --enable-librabbitmq --enable-librubberband --enable-libshine --enable-libsnappy --enable-libsoxr --enable-libspeex --enable-libsrt --enable-libssh --enable-libtheora --enable-libtwolame --enable-libvidstab --enable-libvorbis --enable-libvpx --enable-libwebp --enable-libx265 --enable-libxml2 --enable-libxvid --enable-libzimg --enable-libzmq --enable-libzvbi --enable-lv2 --enable-omx --enable-openal --enable-opencl --enable-opengl --enable-sdl2 --enable-pocketsphinx --enable-librsvg --enable-libmfx --enable-libdc1394 --enable-libdrm --enable-libiec61883 --enable-chromaprint --enable-frei0r --enable-libx264 --enable-shared\n",
            "  libavutil      56. 70.100 / 56. 70.100\n",
            "  libavcodec     58.134.100 / 58.134.100\n",
            "  libavformat    58. 76.100 / 58. 76.100\n",
            "  libavdevice    58. 13.100 / 58. 13.100\n",
            "  libavfilter     7.110.100 /  7.110.100\n",
            "  libswscale      5.  9.100 /  5.  9.100\n",
            "  libswresample   3.  9.100 /  3.  9.100\n",
            "  libpostproc    55.  9.100 / 55.  9.100\n",
            "Input #0, mov,mp4,m4a,3gp,3g2,mj2, from '/content/drive/MyDrive/video-converter/example-video.mp4':\n",
            "  Metadata:\n",
            "    minor_version   : 512\n",
            "    major_brand     : isom\n",
            "    compatible_brands: isomiso2avc1mp41\n",
            "    comment         : vid:v09044580000bs5i4ff7dq7fnr9v0pu0\n",
            "    encoder         : Lavf58.20.100\n",
            "  Duration: 00:01:01.60, start: 0.000000, bitrate: 1516 kb/s\n",
            "  Stream #0:0(und): Video: h264 (High) (avc1 / 0x31637661), yuv420p, 576x1024 [SAR 1:1 DAR 9:16], 1380 kb/s, 29.97 fps, 29.97 tbr, 11988 tbn, 59.94 tbc (default)\n",
            "    Metadata:\n",
            "      handler_name    : VideoHandler\n",
            "      vendor_id       : [0][0][0][0]\n",
            "  Stream #0:1(und): Audio: aac (LC) (mp4a / 0x6134706D), 44100 Hz, stereo, fltp, 128 kb/s (default)\n",
            "    Metadata:\n",
            "      handler_name    : SoundHandler\n",
            "      vendor_id       : [0][0][0][0]\n",
            "Stream mapping:\n",
            "  Stream #0:1 -> #0:0 (aac (native) -> pcm_s16le (native))\n",
            "Press [q] to stop, [?] for help\n",
            "Output #0, wav, to 'audio.wav':\n",
            "  Metadata:\n",
            "    minor_version   : 512\n",
            "    major_brand     : isom\n",
            "    compatible_brands: isomiso2avc1mp41\n",
            "    ICMT            : vid:v09044580000bs5i4ff7dq7fnr9v0pu0\n",
            "    ISFT            : Lavf58.76.100\n",
            "  Stream #0:0(und): Audio: pcm_s16le ([1][0][0][0] / 0x0001), 44100 Hz, stereo, s16, 1411 kb/s (default)\n",
            "    Metadata:\n",
            "      handler_name    : SoundHandler\n",
            "      vendor_id       : [0][0][0][0]\n",
            "      encoder         : Lavc58.134.100 pcm_s16le\n",
            "size=   10604kB time=00:01:01.53 bitrate=1411.7kbits/s speed= 148x    \n",
            "video:0kB audio:10604kB subtitle:0kB other streams:0kB global headers:0kB muxing overhead: 0.001142%\n"
          ]
        }
      ]
    },
    {
      "cell_type": "code",
      "source": [
        "from google.colab import drive\n",
        "from IPython.display import HTML\n",
        "from base64 import b64encode\n",
        "import torchaudio\n",
        "import torch\n",
        "\n",
        "# Load the Silero VAD model\n",
        "model, utils = torch.hub.load(repo_or_dir='snakers4/silero-vad', model='silero_vad', force_reload=False)\n",
        "\n",
        "(get_speech_timestamps,\n",
        " save_audio,\n",
        " read_audio,\n",
        " VADIterator,\n",
        " collect_chunks) = utils\n",
        "\n",
        "# Read the audio file\n",
        "wav = read_audio(wav_path, sampling_rate=16000)\n",
        "\n",
        "# Get speech timestamps\n",
        "speech_timestamps = get_speech_timestamps(wav, model, sampling_rate=16000)"
      ],
      "metadata": {
        "colab": {
          "base_uri": "https://localhost:8080/"
        },
        "id": "vMJW1NPWwAcA",
        "outputId": "285d684b-019d-4885-b081-f0144894696a"
      },
      "execution_count": 6,
      "outputs": [
        {
          "output_type": "stream",
          "name": "stderr",
          "text": [
            "Using cache found in /root/.cache/torch/hub/snakers4_silero-vad_master\n"
          ]
        }
      ]
    },
    {
      "cell_type": "code",
      "source": [
        "import whisper\n",
        "\n",
        "# Load the Whisper model\n",
        "model = whisper.load_model(\"base\")\n",
        "\n",
        "transcription = []\n",
        "for i, timestamp in enumerate(speech_timestamps):\n",
        "    start_time = timestamp['start']\n",
        "    end_time = timestamp['end']\n",
        "\n",
        "    # Extract the audio chunk\n",
        "    start_sample = int(start_time )\n",
        "    end_sample = int(end_time )\n",
        "    chunk = wav[start_sample:end_sample]\n",
        "\n",
        "    # Transcribe the audio chunk\n",
        "    result = model.transcribe(chunk)\n",
        "\n",
        "    # Print the transcription with timestamp\n",
        "    transcription.append({\n",
        "        \"start\": start_time,\n",
        "        \"end\": end_time,\n",
        "        \"text\": result['text']\n",
        "    })\n",
        "    print(f\"[{start_time:.2f} - {end_time:.2f}] {result['text']}\")\n"
      ],
      "metadata": {
        "colab": {
          "base_uri": "https://localhost:8080/"
        },
        "id": "awjxJvjWnHZZ",
        "outputId": "70232f5c-235f-4e39-f0d5-a8e28cc7bc03"
      },
      "execution_count": 7,
      "outputs": [
        {
          "output_type": "stream",
          "name": "stderr",
          "text": [
            "WARNING:py.warnings:/usr/local/lib/python3.11/dist-packages/whisper/__init__.py:150: FutureWarning: You are using `torch.load` with `weights_only=False` (the current default value), which uses the default pickle module implicitly. It is possible to construct malicious pickle data which will execute arbitrary code during unpickling (See https://github.com/pytorch/pytorch/blob/main/SECURITY.md#untrusted-models for more details). In a future release, the default value for `weights_only` will be flipped to `True`. This limits the functions that could be executed during unpickling. Arbitrary objects will no longer be allowed to be loaded via this mode unless they are explicitly allowlisted by the user via `torch.serialization.add_safe_globals`. We recommend you start setting `weights_only=True` for any use case where you don't have full control of the loaded file. Please open an issue on GitHub for any issues related to this experimental feature.\n",
            "  checkpoint = torch.load(fp, map_location=device)\n",
            "\n",
            "WARNING:py.warnings:/usr/local/lib/python3.11/dist-packages/whisper/transcribe.py:132: UserWarning: FP16 is not supported on CPU; using FP32 instead\n",
            "  warnings.warn(\"FP16 is not supported on CPU; using FP32 instead\")\n",
            "\n"
          ]
        },
        {
          "output_type": "stream",
          "name": "stdout",
          "text": [
            "[3616.00 - 80352.00]  If you're a beginner in the stock market, listen up because this is one of the biggest mistakes I see beginners making today.\n",
            "[81952.00 - 177632.00]  So if you're a dividend investor and you see a stock like OK, and you see it has a dividend yield of 14% you'd get hell excited, right?\n",
            "[180256.00 - 346592.00]  If you don't know what that means, that's like having a savings account with a 14% interest rate. So if you were to invest $1,000 in the stock, you could expect to get paid $140 each year just for owning the stock.\n",
            "[350240.00 - 376288.00]  And here are some problems I see with that.\n",
            "[379936.00 - 429024.00]  First and foremost, this company is in an industry that's not doing so hot right now.\n",
            "[433696.00 - 475616.00]  They have 444 million shares outstanding.\n",
            "[477728.00 - 810976.00]  that to pay each of those shares $3.74 every year, which gives a company a payout ratio of a whopping 187%. A healthy payout ratio is anything under 50%, but 190% means that you're paying your shareholders three times of what you're making and earning. So if your profits aren't even enough to cover your dividend payment, that means that's coming from sale of assets or debt.\n",
            "[814624.00 - 887776.00]  which is not sustainable at all and always remember companies are never entitled to pay you dividend ever.\n",
            "[889376.00 - 936416.00]  They can cancel at any time you'll just be stuck holding this dead stock.\n"
          ]
        }
      ]
    },
    {
      "cell_type": "code",
      "source": [
        "from base64 import b64encode\n",
        "from googletrans import Translator\n",
        "\n",
        "translator = Translator()\n",
        "\n",
        "for timestamp in transcription:\n",
        "    start_time = timestamp['start']\n",
        "    end_time = timestamp['end']\n",
        "\n",
        "    # Translate the text to Vietnamese\n",
        "    translated_text = translator.translate(timestamp[\"text\"], dest=\"vi\").text\n",
        "\n",
        "    # Append to transcription with Vietnamese translation\n",
        "    timestamp[\"vietnamese_text\"] = translated_text\n",
        "    print(f\"[{start_time:.2f} - {end_time:.2f}] From: {timestamp['text']}\\n -> To: {translated_text}\")"
      ],
      "metadata": {
        "id": "2gbP7BcVB5Lk"
      },
      "execution_count": null,
      "outputs": []
    },
    {
      "cell_type": "code",
      "source": [
        "%mkdir -p trans_transcript\n",
        "\n",
        "from gtts import gTTS\n",
        "import os\n",
        "\n",
        "for timestamp in transcription:\n",
        "    start_time = timestamp['start']\n",
        "    end_time = timestamp['end']\n",
        "    translated_text = timestamp['vietnamese_text']\n",
        "\n",
        "    # Create a filename based on the start time\n",
        "    filename = f\"trans_transcript/output_{start_time:.2f}.mp3\"\n",
        "\n",
        "    # Create the speech object\n",
        "    tts = gTTS(text=translated_text, lang='vi')\n",
        "\n",
        "    # Save the speech to a file\n",
        "    tts.save(filename)\n",
        "    timestamp[\"file\"] = filename\n",
        "    print(f\"Saved Vietnamese audio for segment [{start_time:.2f} - {end_time:.2f}] to {filename}\")"
      ],
      "metadata": {
        "colab": {
          "base_uri": "https://localhost:8080/"
        },
        "id": "L4AXutALrTSM",
        "outputId": "e12c5682-809d-4e10-b826-48f322a4fe49"
      },
      "execution_count": 38,
      "outputs": [
        {
          "output_type": "stream",
          "name": "stdout",
          "text": [
            "Saved Vietnamese audio for segment [3616.00 - 80352.00] to trans_transcript/output_3616.00.mp3\n",
            "Saved Vietnamese audio for segment [81952.00 - 177632.00] to trans_transcript/output_81952.00.mp3\n",
            "Saved Vietnamese audio for segment [180256.00 - 346592.00] to trans_transcript/output_180256.00.mp3\n",
            "Saved Vietnamese audio for segment [350240.00 - 376288.00] to trans_transcript/output_350240.00.mp3\n",
            "Saved Vietnamese audio for segment [379936.00 - 429024.00] to trans_transcript/output_379936.00.mp3\n",
            "Saved Vietnamese audio for segment [433696.00 - 475616.00] to trans_transcript/output_433696.00.mp3\n",
            "Saved Vietnamese audio for segment [477728.00 - 810976.00] to trans_transcript/output_477728.00.mp3\n",
            "Saved Vietnamese audio for segment [814624.00 - 887776.00] to trans_transcript/output_814624.00.mp3\n",
            "Saved Vietnamese audio for segment [889376.00 - 936416.00] to trans_transcript/output_889376.00.mp3\n"
          ]
        }
      ]
    },
    {
      "cell_type": "code",
      "source": [
        "import librosa\n",
        "import soundfile as sf\n",
        "from pydub import AudioSegment\n",
        "\n",
        "for timestamp in transcription:\n",
        "    start_time = timestamp['start']\n",
        "    end_time = timestamp['end']\n",
        "    filename = timestamp[\"file\"]\n",
        "\n",
        "    # Load the generated audio\n",
        "    audio = AudioSegment.from_mp3(filename)\n",
        "\n",
        "    # Calculate the desired duration\n",
        "    desired_duration = (end_time - start_time) / 16000 * 1000  # Convert to milliseconds\n",
        "    print(f\"len(audio) = {len(audio)}, desired_duration = {desired_duration}\")\n",
        "    # Check if the audio needs to be sped up\n",
        "    if len(audio) > desired_duration:\n",
        "        # Calculate the speedup factor\n",
        "        speed_factor = len(audio) / desired_duration\n",
        "        print(f\"speed_factor = {speed_factor}\")\n",
        "        # Use librosa to speed up the audio\n",
        "        y, sr = librosa.load(filename, sr=None)\n",
        "        y_stretched = librosa.effects.time_stretch(y, rate=speed_factor)\n",
        "\n",
        "        # Save the sped-up audio\n",
        "        sf.write(filename, y_stretched, sr)\n",
        "\n",
        "        print(f\"Sped up audio for segment [{start_time:.2f} - {end_time:.2f}] to match duration.\")"
      ],
      "metadata": {
        "id": "vCg7u3nQ5w1U",
        "outputId": "ebecbc7c-7ae5-488a-b07e-f8c50061d485",
        "colab": {
          "base_uri": "https://localhost:8080/"
        }
      },
      "execution_count": 39,
      "outputs": [
        {
          "output_type": "stream",
          "name": "stdout",
          "text": [
            "len(audio) = 11496, desired_duration = 4796.0\n",
            "speed_factor = 2.396997497914929\n",
            "Sped up audio for segment [3616.00 - 80352.00] to match duration.\n",
            "len(audio) = 12936, desired_duration = 5980.0\n",
            "speed_factor = 2.163210702341137\n",
            "Sped up audio for segment [81952.00 - 177632.00] to match duration.\n",
            "len(audio) = 19176, desired_duration = 10396.0\n",
            "speed_factor = 1.8445555983070412\n",
            "Sped up audio for segment [180256.00 - 346592.00] to match duration.\n",
            "len(audio) = 3888, desired_duration = 1628.0\n",
            "speed_factor = 2.388206388206388\n",
            "Sped up audio for segment [350240.00 - 376288.00] to match duration.\n",
            "len(audio) = 7368, desired_duration = 3068.0\n",
            "speed_factor = 2.4015645371577574\n",
            "Sped up audio for segment [379936.00 - 429024.00] to match duration.\n",
            "len(audio) = 4536, desired_duration = 2620.0\n",
            "speed_factor = 1.7312977099236642\n",
            "Sped up audio for segment [433696.00 - 475616.00] to match duration.\n",
            "len(audio) = 37008, desired_duration = 20828.0\n",
            "speed_factor = 1.7768388707509122\n",
            "Sped up audio for segment [477728.00 - 810976.00] to match duration.\n",
            "len(audio) = 7632, desired_duration = 4572.0\n",
            "speed_factor = 1.669291338582677\n",
            "Sped up audio for segment [814624.00 - 887776.00] to match duration.\n",
            "len(audio) = 5832, desired_duration = 2940.0\n",
            "speed_factor = 1.9836734693877551\n",
            "Sped up audio for segment [889376.00 - 936416.00] to match duration.\n"
          ]
        }
      ]
    },
    {
      "cell_type": "code",
      "source": [
        "from IPython.display import Audio\n",
        "\n",
        "print(transcription)\n",
        "for timestamp in transcription:\n",
        "  print(f\"[{timestamp['start']:.2f} - {timestamp['end']:.2f}] {timestamp['vietnamese_text']}\")\n",
        "  try:\n",
        "    display(Audio(timestamp[\"file\"]))\n",
        "    pass\n",
        "  except Exception as e:\n",
        "    print(f\"Error displaying audio for segment {timestamp['start']:.2f}: {e}\")\n",
        "\n",
        "  # Only want to check the first one\n",
        "  break"
      ],
      "metadata": {
        "id": "MI0rZTp67svd"
      },
      "execution_count": null,
      "outputs": []
    },
    {
      "cell_type": "code",
      "source": [
        "import subprocess\n",
        "\n",
        "# Combine audio segments into a single output file\n",
        "combined_audio = AudioSegment.empty()\n",
        "original_audio = AudioSegment.from_mp3(wav_path)\n",
        "curr = 0\n",
        "final = len(wav)\n",
        "for timestamp in transcription:\n",
        "    start = timestamp['start'] / 16000 * 1000\n",
        "    end = timestamp['end'] / 16000 * 1000\n",
        "\n",
        "    print(f\"curr = {curr}, timestamp = [{start} : {end}]\")\n",
        "\n",
        "    if curr < start:\n",
        "        # Get the curr to timestamp['start'] from original video audio\n",
        "        segment_audio = original_audio[curr:start]\n",
        "        combined_audio += segment_audio\n",
        "\n",
        "    curr = end\n",
        "\n",
        "    try:\n",
        "        segment_audio = AudioSegment.from_mp3(timestamp[\"file\"])\n",
        "        combined_audio += segment_audio\n",
        "    except FileNotFoundError:\n",
        "        print(f\"Warning: Audio file not found for segment at {timestamp['start']:.2f}. Skipping.\")\n",
        "\n",
        "# Check if we reach the final, else put that too\n",
        "if curr == final:\n",
        "    segment_audio = original_audio[curr:]\n",
        "    combined_audio += segment_audio\n",
        "\n",
        "# Export the combined audio\n",
        "combined_audio.export(\"combined_audio.mp3\", format=\"mp3\")"
      ],
      "metadata": {
        "id": "Isirdnuo663h",
        "outputId": "f687f357-a910-4d33-a2d6-5c4bfd33609f",
        "colab": {
          "base_uri": "https://localhost:8080/"
        }
      },
      "execution_count": 48,
      "outputs": [
        {
          "output_type": "stream",
          "name": "stdout",
          "text": [
            "curr = 0, timestamp = [226.0 : 5022.0]\n",
            "curr = 5022.0, timestamp = [5122.0 : 11102.0]\n",
            "curr = 11102.0, timestamp = [11266.0 : 21662.0]\n",
            "curr = 21662.0, timestamp = [21890.0 : 23518.0]\n",
            "curr = 23518.0, timestamp = [23746.0 : 26814.0]\n",
            "curr = 26814.0, timestamp = [27106.0 : 29726.0]\n",
            "curr = 29726.0, timestamp = [29858.0 : 50686.0]\n",
            "curr = 50686.0, timestamp = [50914.0 : 55486.0]\n",
            "curr = 55486.0, timestamp = [55586.0 : 58526.0]\n"
          ]
        },
        {
          "output_type": "execute_result",
          "data": {
            "text/plain": [
              "<_io.BufferedRandom name='combined_audio.mp3'>"
            ]
          },
          "metadata": {},
          "execution_count": 48
        }
      ]
    },
    {
      "cell_type": "code",
      "source": [
        "!ffmpeg -i \"{mp4_path}\" -i combined_audio.mp3 -c:v copy -map 0:v:0 -map 1:a:0 output.mp4"
      ],
      "metadata": {
        "id": "7ANYQ0VZA52d",
        "outputId": "c094e608-1487-4b30-f167-0834422d757d",
        "colab": {
          "base_uri": "https://localhost:8080/"
        }
      },
      "execution_count": 50,
      "outputs": [
        {
          "output_type": "stream",
          "name": "stdout",
          "text": [
            "ffmpeg version 4.4.2-0ubuntu0.22.04.1 Copyright (c) 2000-2021 the FFmpeg developers\n",
            "  built with gcc 11 (Ubuntu 11.2.0-19ubuntu1)\n",
            "  configuration: --prefix=/usr --extra-version=0ubuntu0.22.04.1 --toolchain=hardened --libdir=/usr/lib/x86_64-linux-gnu --incdir=/usr/include/x86_64-linux-gnu --arch=amd64 --enable-gpl --disable-stripping --enable-gnutls --enable-ladspa --enable-libaom --enable-libass --enable-libbluray --enable-libbs2b --enable-libcaca --enable-libcdio --enable-libcodec2 --enable-libdav1d --enable-libflite --enable-libfontconfig --enable-libfreetype --enable-libfribidi --enable-libgme --enable-libgsm --enable-libjack --enable-libmp3lame --enable-libmysofa --enable-libopenjpeg --enable-libopenmpt --enable-libopus --enable-libpulse --enable-librabbitmq --enable-librubberband --enable-libshine --enable-libsnappy --enable-libsoxr --enable-libspeex --enable-libsrt --enable-libssh --enable-libtheora --enable-libtwolame --enable-libvidstab --enable-libvorbis --enable-libvpx --enable-libwebp --enable-libx265 --enable-libxml2 --enable-libxvid --enable-libzimg --enable-libzmq --enable-libzvbi --enable-lv2 --enable-omx --enable-openal --enable-opencl --enable-opengl --enable-sdl2 --enable-pocketsphinx --enable-librsvg --enable-libmfx --enable-libdc1394 --enable-libdrm --enable-libiec61883 --enable-chromaprint --enable-frei0r --enable-libx264 --enable-shared\n",
            "  libavutil      56. 70.100 / 56. 70.100\n",
            "  libavcodec     58.134.100 / 58.134.100\n",
            "  libavformat    58. 76.100 / 58. 76.100\n",
            "  libavdevice    58. 13.100 / 58. 13.100\n",
            "  libavfilter     7.110.100 /  7.110.100\n",
            "  libswscale      5.  9.100 /  5.  9.100\n",
            "  libswresample   3.  9.100 /  3.  9.100\n",
            "  libpostproc    55.  9.100 / 55.  9.100\n",
            "Input #0, mov,mp4,m4a,3gp,3g2,mj2, from '/content/drive/MyDrive/video-converter/example-video.mp4':\n",
            "  Metadata:\n",
            "    minor_version   : 512\n",
            "    major_brand     : isom\n",
            "    compatible_brands: isomiso2avc1mp41\n",
            "    comment         : vid:v09044580000bs5i4ff7dq7fnr9v0pu0\n",
            "    encoder         : Lavf58.20.100\n",
            "  Duration: 00:01:01.60, start: 0.000000, bitrate: 1516 kb/s\n",
            "  Stream #0:0(und): Video: h264 (High) (avc1 / 0x31637661), yuv420p, 576x1024 [SAR 1:1 DAR 9:16], 1380 kb/s, 29.97 fps, 29.97 tbr, 11988 tbn, 59.94 tbc (default)\n",
            "    Metadata:\n",
            "      handler_name    : VideoHandler\n",
            "      vendor_id       : [0][0][0][0]\n",
            "  Stream #0:1(und): Audio: aac (LC) (mp4a / 0x6134706D), 44100 Hz, stereo, fltp, 128 kb/s (default)\n",
            "    Metadata:\n",
            "      handler_name    : SoundHandler\n",
            "      vendor_id       : [0][0][0][0]\n",
            "Input #1, mp3, from 'combined_audio.mp3':\n",
            "  Metadata:\n",
            "    encoder         : Lavf58.76.100\n",
            "  Duration: 00:00:58.57, start: 0.025057, bitrate: 128 kb/s\n",
            "  Stream #1:0: Audio: mp3, 44100 Hz, stereo, fltp, 128 kb/s\n",
            "    Metadata:\n",
            "      encoder         : Lavc58.13\n",
            "Stream mapping:\n",
            "  Stream #0:0 -> #0:0 (copy)\n",
            "  Stream #1:0 -> #0:1 (mp3 (mp3float) -> aac (native))\n",
            "Press [q] to stop, [?] for help\n",
            "Output #0, mp4, to 'output.mp4':\n",
            "  Metadata:\n",
            "    minor_version   : 512\n",
            "    major_brand     : isom\n",
            "    compatible_brands: isomiso2avc1mp41\n",
            "    comment         : vid:v09044580000bs5i4ff7dq7fnr9v0pu0\n",
            "    encoder         : Lavf58.76.100\n",
            "  Stream #0:0(und): Video: h264 (High) (avc1 / 0x31637661), yuv420p, 576x1024 [SAR 1:1 DAR 9:16], q=2-31, 1380 kb/s, 29.97 fps, 29.97 tbr, 11988 tbn, 11988 tbc (default)\n",
            "    Metadata:\n",
            "      handler_name    : VideoHandler\n",
            "      vendor_id       : [0][0][0][0]\n",
            "  Stream #0:1: Audio: aac (LC) (mp4a / 0x6134706D), 44100 Hz, stereo, fltp, 128 kb/s\n",
            "    Metadata:\n",
            "      encoder         : Lavc58.134.100 aac\n",
            "frame= 1845 fps=1193 q=-1.0 Lsize=   11326kB time=00:01:01.46 bitrate=1509.6kbits/s speed=39.8x    \n",
            "video:10373kB audio:889kB subtitle:0kB other streams:0kB global headers:0kB muxing overhead: 0.565046%\n",
            "\u001b[1;36m[aac @ 0x55ec1e028280] \u001b[0mQavg: 8184.155\n"
          ]
        }
      ]
    },
    {
      "cell_type": "code",
      "source": [
        "from IPython.display import HTML\n",
        "from base64 import b64encode\n",
        "\n",
        "mp4 = open('/content/output.mp4','rb').read()\n",
        "data_url = \"data:video/mp4;base64,\" + b64encode(mp4).decode()\n",
        "HTML(\"\"\"\n",
        "<video width=400 controls>\n",
        "      <source src=\"%s\" type=\"video/mp4\">\n",
        "</video>\n",
        "\"\"\" % data_url)\n"
      ],
      "metadata": {
        "id": "nPTIFinIA8LT"
      },
      "execution_count": null,
      "outputs": []
    },
    {
      "cell_type": "code",
      "source": [
        "!cp output.mp4 /content/drive/MyDrive/video-converter/output.mp4"
      ],
      "metadata": {
        "id": "FnBeXpAQBd7-"
      },
      "execution_count": 52,
      "outputs": []
    }
  ],
  "metadata": {
    "language_info": {
      "name": "python"
    },
    "colab": {
      "provenance": []
    },
    "kernelspec": {
      "name": "python3",
      "display_name": "Python 3"
    }
  },
  "nbformat": 4,
  "nbformat_minor": 0
}